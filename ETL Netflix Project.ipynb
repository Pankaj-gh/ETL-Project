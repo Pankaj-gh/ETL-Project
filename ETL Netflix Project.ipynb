{
 "cells": [
  {
   "cell_type": "markdown",
   "metadata": {},
   "source": [
    "# Postgres + Pandas"
   ]
  },
  {
   "cell_type": "code",
   "execution_count": 3,
   "metadata": {},
   "outputs": [],
   "source": [
    "import pandas as pd\n",
    "from sqlalchemy import create_engine\n",
    "import os"
   ]
  },
  {
   "cell_type": "markdown",
   "metadata": {
    "slideshow": {
     "slide_type": "-"
    }
   },
   "source": [
    "### Store CSV into DataFrame"
   ]
  },
  {
   "cell_type": "code",
   "execution_count": 6,
   "metadata": {},
   "outputs": [
    {
     "data": {
      "text/html": [
       "<div>\n",
       "<style scoped>\n",
       "    .dataframe tbody tr th:only-of-type {\n",
       "        vertical-align: middle;\n",
       "    }\n",
       "\n",
       "    .dataframe tbody tr th {\n",
       "        vertical-align: top;\n",
       "    }\n",
       "\n",
       "    .dataframe thead th {\n",
       "        text-align: right;\n",
       "    }\n",
       "</style>\n",
       "<table border=\"1\" class=\"dataframe\">\n",
       "  <thead>\n",
       "    <tr style=\"text-align: right;\">\n",
       "      <th></th>\n",
       "      <th>week</th>\n",
       "      <th>show_type</th>\n",
       "      <th>title</th>\n",
       "      <th>ori_country</th>\n",
       "      <th>genre</th>\n",
       "      <th>release_date</th>\n",
       "      <th>is_NF_Ori</th>\n",
       "      <th>imdb_rating</th>\n",
       "      <th>rt_rating</th>\n",
       "      <th>country_chart</th>\n",
       "      <th>show_link</th>\n",
       "      <th>Continent</th>\n",
       "    </tr>\n",
       "  </thead>\n",
       "  <tbody>\n",
       "    <tr>\n",
       "      <th>0</th>\n",
       "      <td>37</td>\n",
       "      <td>Movie</td>\n",
       "      <td>Love, Guaranteed</td>\n",
       "      <td>USA</td>\n",
       "      <td>Comedy</td>\n",
       "      <td>2020-09-03</td>\n",
       "      <td>True</td>\n",
       "      <td>55%</td>\n",
       "      <td>50%</td>\n",
       "      <td>USA</td>\n",
       "      <td>https://flixpatrol.com/title/love-guaranteed</td>\n",
       "      <td>AME</td>\n",
       "    </tr>\n",
       "    <tr>\n",
       "      <th>1</th>\n",
       "      <td>37</td>\n",
       "      <td>TV Show</td>\n",
       "      <td>Away</td>\n",
       "      <td>USA</td>\n",
       "      <td>Science Fiction</td>\n",
       "      <td>2020-09-04</td>\n",
       "      <td>True</td>\n",
       "      <td>71%</td>\n",
       "      <td>73%</td>\n",
       "      <td>USA</td>\n",
       "      <td>https://flixpatrol.com/title/away-2020</td>\n",
       "      <td>AME</td>\n",
       "    </tr>\n",
       "    <tr>\n",
       "      <th>2</th>\n",
       "      <td>36</td>\n",
       "      <td>Movie</td>\n",
       "      <td>The Frozen Ground</td>\n",
       "      <td>USA</td>\n",
       "      <td>NaN</td>\n",
       "      <td>2013-08-23</td>\n",
       "      <td>False</td>\n",
       "      <td>64%</td>\n",
       "      <td>NaN</td>\n",
       "      <td>USA</td>\n",
       "      <td>https://flixpatrol.com/title/the-frozen-ground</td>\n",
       "      <td>AME</td>\n",
       "    </tr>\n",
       "    <tr>\n",
       "      <th>3</th>\n",
       "      <td>36</td>\n",
       "      <td>TV Show</td>\n",
       "      <td>Cobra Kai</td>\n",
       "      <td>USA</td>\n",
       "      <td>Action</td>\n",
       "      <td>2018-05-02</td>\n",
       "      <td>False</td>\n",
       "      <td>88%</td>\n",
       "      <td>94%</td>\n",
       "      <td>USA</td>\n",
       "      <td>https://flixpatrol.com/title/cobra-kai</td>\n",
       "      <td>AME</td>\n",
       "    </tr>\n",
       "    <tr>\n",
       "      <th>4</th>\n",
       "      <td>35</td>\n",
       "      <td>Movie</td>\n",
       "      <td>Project Power</td>\n",
       "      <td>USA</td>\n",
       "      <td>Action</td>\n",
       "      <td>2020-08-14</td>\n",
       "      <td>True</td>\n",
       "      <td>61%</td>\n",
       "      <td>63%</td>\n",
       "      <td>USA</td>\n",
       "      <td>https://flixpatrol.com/title/project-power</td>\n",
       "      <td>AME</td>\n",
       "    </tr>\n",
       "  </tbody>\n",
       "</table>\n",
       "</div>"
      ],
      "text/plain": [
       "   week show_type              title ori_country            genre  \\\n",
       "0    37     Movie   Love, Guaranteed         USA           Comedy   \n",
       "1    37   TV Show               Away         USA  Science Fiction   \n",
       "2    36     Movie  The Frozen Ground         USA              NaN   \n",
       "3    36   TV Show          Cobra Kai         USA           Action   \n",
       "4    35     Movie      Project Power         USA           Action   \n",
       "\n",
       "  release_date  is_NF_Ori imdb_rating rt_rating country_chart  \\\n",
       "0   2020-09-03       True         55%       50%           USA   \n",
       "1   2020-09-04       True         71%       73%           USA   \n",
       "2   2013-08-23      False         64%       NaN           USA   \n",
       "3   2018-05-02      False         88%       94%           USA   \n",
       "4   2020-08-14       True         61%       63%           USA   \n",
       "\n",
       "                                        show_link Continent  \n",
       "0    https://flixpatrol.com/title/love-guaranteed       AME  \n",
       "1          https://flixpatrol.com/title/away-2020       AME  \n",
       "2  https://flixpatrol.com/title/the-frozen-ground       AME  \n",
       "3          https://flixpatrol.com/title/cobra-kai       AME  \n",
       "4      https://flixpatrol.com/title/project-power       AME  "
      ]
     },
     "execution_count": 6,
     "metadata": {},
     "output_type": "execute_result"
    }
   ],
   "source": [
    "csv_file = os.path.join(\"Resources\", \"NETFLIX USA Information - Kaggle.csv\")\n",
    "Netflix_data_df = pd.read_csv(csv_file)\n",
    "Netflix_data_df.head()"
   ]
  },
  {
   "cell_type": "code",
   "execution_count": 14,
   "metadata": {},
   "outputs": [
    {
     "data": {
      "text/html": [
       "<div>\n",
       "<style scoped>\n",
       "    .dataframe tbody tr th:only-of-type {\n",
       "        vertical-align: middle;\n",
       "    }\n",
       "\n",
       "    .dataframe tbody tr th {\n",
       "        vertical-align: top;\n",
       "    }\n",
       "\n",
       "    .dataframe thead th {\n",
       "        text-align: right;\n",
       "    }\n",
       "</style>\n",
       "<table border=\"1\" class=\"dataframe\">\n",
       "  <thead>\n",
       "    <tr style=\"text-align: right;\">\n",
       "      <th></th>\n",
       "      <th>week</th>\n",
       "      <th>title</th>\n",
       "      <th>ori_country</th>\n",
       "      <th>genre</th>\n",
       "      <th>release_date</th>\n",
       "      <th>is_NF_Ori</th>\n",
       "      <th>imdb_rating</th>\n",
       "      <th>rt_rating</th>\n",
       "      <th>country_chart</th>\n",
       "      <th>show_link</th>\n",
       "      <th>Continent</th>\n",
       "    </tr>\n",
       "    <tr>\n",
       "      <th>show_type</th>\n",
       "      <th></th>\n",
       "      <th></th>\n",
       "      <th></th>\n",
       "      <th></th>\n",
       "      <th></th>\n",
       "      <th></th>\n",
       "      <th></th>\n",
       "      <th></th>\n",
       "      <th></th>\n",
       "      <th></th>\n",
       "      <th></th>\n",
       "    </tr>\n",
       "  </thead>\n",
       "  <tbody>\n",
       "    <tr>\n",
       "      <th>Movie</th>\n",
       "      <td>37</td>\n",
       "      <td>Love, Guaranteed</td>\n",
       "      <td>USA</td>\n",
       "      <td>Comedy</td>\n",
       "      <td>2020-09-03</td>\n",
       "      <td>True</td>\n",
       "      <td>55%</td>\n",
       "      <td>50%</td>\n",
       "      <td>USA</td>\n",
       "      <td>https://flixpatrol.com/title/love-guaranteed</td>\n",
       "      <td>AME</td>\n",
       "    </tr>\n",
       "    <tr>\n",
       "      <th>Movie</th>\n",
       "      <td>36</td>\n",
       "      <td>The Frozen Ground</td>\n",
       "      <td>USA</td>\n",
       "      <td>NaN</td>\n",
       "      <td>2013-08-23</td>\n",
       "      <td>False</td>\n",
       "      <td>64%</td>\n",
       "      <td>NaN</td>\n",
       "      <td>USA</td>\n",
       "      <td>https://flixpatrol.com/title/the-frozen-ground</td>\n",
       "      <td>AME</td>\n",
       "    </tr>\n",
       "    <tr>\n",
       "      <th>Movie</th>\n",
       "      <td>35</td>\n",
       "      <td>Project Power</td>\n",
       "      <td>USA</td>\n",
       "      <td>Action</td>\n",
       "      <td>2020-08-14</td>\n",
       "      <td>True</td>\n",
       "      <td>61%</td>\n",
       "      <td>63%</td>\n",
       "      <td>USA</td>\n",
       "      <td>https://flixpatrol.com/title/project-power</td>\n",
       "      <td>AME</td>\n",
       "    </tr>\n",
       "    <tr>\n",
       "      <th>Movie</th>\n",
       "      <td>34</td>\n",
       "      <td>Project Power</td>\n",
       "      <td>USA</td>\n",
       "      <td>Action</td>\n",
       "      <td>2020-08-14</td>\n",
       "      <td>True</td>\n",
       "      <td>61%</td>\n",
       "      <td>63%</td>\n",
       "      <td>USA</td>\n",
       "      <td>https://flixpatrol.com/title/project-power</td>\n",
       "      <td>AME</td>\n",
       "    </tr>\n",
       "    <tr>\n",
       "      <th>Movie</th>\n",
       "      <td>33</td>\n",
       "      <td>Work It</td>\n",
       "      <td>USA</td>\n",
       "      <td>Comedy</td>\n",
       "      <td>2020-08-07</td>\n",
       "      <td>True</td>\n",
       "      <td>61%</td>\n",
       "      <td>NaN</td>\n",
       "      <td>USA</td>\n",
       "      <td>https://flixpatrol.com/title/work-it-2020</td>\n",
       "      <td>AME</td>\n",
       "    </tr>\n",
       "  </tbody>\n",
       "</table>\n",
       "</div>"
      ],
      "text/plain": [
       "           week              title ori_country   genre release_date  \\\n",
       "show_type                                                             \n",
       "Movie        37   Love, Guaranteed         USA  Comedy   2020-09-03   \n",
       "Movie        36  The Frozen Ground         USA     NaN   2013-08-23   \n",
       "Movie        35      Project Power         USA  Action   2020-08-14   \n",
       "Movie        34      Project Power         USA  Action   2020-08-14   \n",
       "Movie        33            Work It         USA  Comedy   2020-08-07   \n",
       "\n",
       "           is_NF_Ori imdb_rating rt_rating country_chart  \\\n",
       "show_type                                                  \n",
       "Movie           True         55%       50%           USA   \n",
       "Movie          False         64%       NaN           USA   \n",
       "Movie           True         61%       63%           USA   \n",
       "Movie           True         61%       63%           USA   \n",
       "Movie           True         61%       NaN           USA   \n",
       "\n",
       "                                                show_link Continent  \n",
       "show_type                                                            \n",
       "Movie        https://flixpatrol.com/title/love-guaranteed       AME  \n",
       "Movie      https://flixpatrol.com/title/the-frozen-ground       AME  \n",
       "Movie          https://flixpatrol.com/title/project-power       AME  \n",
       "Movie          https://flixpatrol.com/title/project-power       AME  \n",
       "Movie           https://flixpatrol.com/title/work-it-2020       AME  "
      ]
     },
     "execution_count": 14,
     "metadata": {},
     "output_type": "execute_result"
    }
   ],
   "source": [
    "# Create a DataFrame by selecting only movies\n",
    "# Delete the data for non-movies\n",
    "Netflix_DF = Netflix_data_df.set_index('show_type')\n",
    "Netflix_Movies_DF = Netflix_DF.loc['Movie',]\n",
    "Netflix_Movies_DF.head()\n",
    "\n",
    "\n"
   ]
  },
  {
   "cell_type": "code",
   "execution_count": null,
   "metadata": {},
   "outputs": [],
   "source": []
  },
  {
   "cell_type": "code",
   "execution_count": null,
   "metadata": {},
   "outputs": [],
   "source": []
  },
  {
   "cell_type": "markdown",
   "metadata": {},
   "source": [
    "### Create new data with select columns"
   ]
  },
  {
   "cell_type": "code",
   "execution_count": null,
   "metadata": {},
   "outputs": [],
   "source": [
    "new_customer_data_df = customer_data_df[['id', 'first_name', 'last_name']].copy()\n",
    "new_customer_data_df.head()"
   ]
  },
  {
   "cell_type": "markdown",
   "metadata": {},
   "source": [
    "### Store JSON data into a DataFrame"
   ]
  },
  {
   "cell_type": "code",
   "execution_count": null,
   "metadata": {},
   "outputs": [],
   "source": [
    "json_file = os.path.join(\"..\", \"Resources\", \"customer_location.json\")\n",
    "customer_location_df = pd.read_json(json_file)\n",
    "customer_location_df.head()"
   ]
  },
  {
   "cell_type": "markdown",
   "metadata": {},
   "source": [
    "### Clean DataFrame"
   ]
  },
  {
   "cell_type": "code",
   "execution_count": null,
   "metadata": {},
   "outputs": [],
   "source": [
    "new_customer_location_df = customer_location_df[[\"id\", \"address\", \"us_state\"]].copy()\n",
    "new_customer_location_df.head()"
   ]
  },
  {
   "cell_type": "markdown",
   "metadata": {},
   "source": [
    "### Connect to local database"
   ]
  },
  {
   "cell_type": "code",
   "execution_count": null,
   "metadata": {},
   "outputs": [],
   "source": [
    "pg_user = 'postgres'\n",
    "pg_password = 'postgres'\n",
    "db_name = 'customer_db'\n",
    "\n",
    "connection_string = f\"{pg_user}:{pg_password}@localhost:5432/{db_name}\"\n",
    "engine = create_engine(f'postgresql://{connection_string}')"
   ]
  },
  {
   "cell_type": "markdown",
   "metadata": {},
   "source": [
    "### Check for tables"
   ]
  },
  {
   "cell_type": "code",
   "execution_count": null,
   "metadata": {},
   "outputs": [],
   "source": [
    "engine.table_names()"
   ]
  },
  {
   "cell_type": "markdown",
   "metadata": {},
   "source": [
    "### Use pandas to load csv converted DataFrame into database"
   ]
  },
  {
   "cell_type": "code",
   "execution_count": null,
   "metadata": {},
   "outputs": [],
   "source": [
    "new_customer_data_df.to_sql(name='customer_name', con=engine, if_exists='append', index=False)"
   ]
  },
  {
   "cell_type": "markdown",
   "metadata": {},
   "source": [
    "### Use pandas to load json converted DataFrame into database"
   ]
  },
  {
   "cell_type": "code",
   "execution_count": null,
   "metadata": {},
   "outputs": [],
   "source": [
    "new_customer_location_df.to_sql(name='customer_location', con=engine, if_exists='append', index=False)"
   ]
  },
  {
   "cell_type": "markdown",
   "metadata": {},
   "source": [
    "### Confirm data has been added by querying the customer_name table\n",
    "* NOTE: can also check using pgAdmin"
   ]
  },
  {
   "cell_type": "code",
   "execution_count": null,
   "metadata": {},
   "outputs": [],
   "source": [
    "pd.read_sql_query('select * from customer_name', con=engine).head()"
   ]
  },
  {
   "cell_type": "markdown",
   "metadata": {},
   "source": [
    "### Confirm data has been added by querying the customer_location table"
   ]
  },
  {
   "cell_type": "code",
   "execution_count": null,
   "metadata": {},
   "outputs": [],
   "source": [
    "pd.read_sql_query('select * from customer_location', con=engine).head()"
   ]
  },
  {
   "cell_type": "code",
   "execution_count": null,
   "metadata": {},
   "outputs": [],
   "source": []
  }
 ],
 "metadata": {
  "kernelspec": {
   "display_name": "Python 3",
   "language": "python",
   "name": "python3"
  },
  "language_info": {
   "codemirror_mode": {
    "name": "ipython",
    "version": 3
   },
   "file_extension": ".py",
   "mimetype": "text/x-python",
   "name": "python",
   "nbconvert_exporter": "python",
   "pygments_lexer": "ipython3",
   "version": "3.7.6"
  },
  "nteract": {
   "version": "0.12.3"
  }
 },
 "nbformat": 4,
 "nbformat_minor": 4
}
